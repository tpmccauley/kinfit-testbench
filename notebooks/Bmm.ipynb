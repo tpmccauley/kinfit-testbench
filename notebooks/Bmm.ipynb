{
 "cells": [
  {
   "cell_type": "code",
   "execution_count": 1,
   "metadata": {},
   "outputs": [
    {
     "name": "stdout",
     "output_type": "stream",
     "text": [
      "Welcome to JupyROOT 6.18/02\n"
     ]
    }
   ],
   "source": [
    "import matplotlib.pyplot as plt\n",
    "import numpy as np\n",
    "import pandas as pd\n",
    "import uproot\n",
    "\n",
    "from ROOT import TFile"
   ]
  },
  {
   "cell_type": "code",
   "execution_count": 2,
   "metadata": {},
   "outputs": [
    {
     "name": "stderr",
     "output_type": "stream",
     "text": [
      "Warning in <TClass::Init>: no dictionary for class edm::Hash<1> is available\n",
      "Warning in <TClass::Init>: no dictionary for class edm::ParameterSetBlob is available\n",
      "Warning in <TClass::Init>: no dictionary for class edm::ProcessHistory is available\n",
      "Warning in <TClass::Init>: no dictionary for class edm::ProcessConfiguration is available\n",
      "Warning in <TClass::Init>: no dictionary for class pair<edm::Hash<1>,edm::ParameterSetBlob> is available\n"
     ]
    }
   ],
   "source": [
    "old_file = TFile('../files/output_fitBToKJPsiMuMu.root', 'READ')\n",
    "new_file = TFile('../files/output_fitBToKJPsiMuMuNew.root', 'READ')"
   ]
  },
  {
   "cell_type": "code",
   "execution_count": 3,
   "metadata": {},
   "outputs": [
    {
     "name": "stdout",
     "output_type": "stream",
     "text": [
      "TFile**\t\t../files/output_fitBToKJPsiMuMu.root\t\n",
      " TFile*\t\t../files/output_fitBToKJPsiMuMu.root\t\n",
      "  KEY: TObjString\ttag;1\tCollectable string class\n",
      "  KEY: TTree\tEvents;1\tEvents\n",
      "  KEY: TTree\tLuminosityBlocks;1\tLuminosityBlocks\n",
      "  KEY: TTree\tRuns;1\tRuns\n",
      "  KEY: TTree\tMetaData;1\tJob metadata\n",
      "  KEY: TTree\tParameterSets;1\tParameter sets\n"
     ]
    }
   ],
   "source": [
    "old_file.ls()"
   ]
  },
  {
   "cell_type": "code",
   "execution_count": 5,
   "metadata": {},
   "outputs": [],
   "source": [
    "old_events = uproot.open('../files/output_fitBToKJPsiMuMu.root')['Events']\n",
    "new_events = uproot.open('../files/output_fitBToKJPsiMuMuNew.root')['Events']"
   ]
  },
  {
   "cell_type": "code",
   "execution_count": 52,
   "metadata": {
    "scrolled": false
   },
   "outputs": [],
   "source": [
    "#old_events.show()"
   ]
  },
  {
   "cell_type": "code",
   "execution_count": 7,
   "metadata": {},
   "outputs": [
    {
     "data": {
      "text/plain": [
       "(b'Events', b'Events', 1000)"
      ]
     },
     "execution_count": 7,
     "metadata": {},
     "output_type": "execute_result"
    }
   ],
   "source": [
    "old_events.name, old_events.title, old_events.numentries"
   ]
  },
  {
   "cell_type": "code",
   "execution_count": 8,
   "metadata": {},
   "outputs": [
    {
     "data": {
      "text/plain": [
       "(b'Events', b'Events', 1000)"
      ]
     },
     "execution_count": 8,
     "metadata": {},
     "output_type": "execute_result"
    }
   ],
   "source": [
    "new_events.name, new_events.title, new_events.numentries"
   ]
  },
  {
   "cell_type": "code",
   "execution_count": 126,
   "metadata": {},
   "outputs": [],
   "source": [
    "entries = [\n",
    "    'Muon_*',\n",
    "    'mm_mu*_index',\n",
    "    'mm_kin_*',\n",
    "    'bkmm_kaon_*',\n",
    "    'bkmm_*',\n",
    "]\n",
    "\n",
    "mm_old = old_events.arrays(entries)\n",
    "mm_new = new_events.arrays(entries)"
   ]
  },
  {
   "cell_type": "code",
   "execution_count": 132,
   "metadata": {},
   "outputs": [
    {
     "name": "stdout",
     "output_type": "stream",
     "text": [
      "entry\n",
      "0                            [8.649204]\n",
      "1                           [1.0408192]\n",
      "2                        [0.0063147396]\n",
      "3                           [28.508623]\n",
      "4                           [1.3530192]\n",
      "                     ...               \n",
      "995                         [1.0049124]\n",
      "996                         [1.5634652]\n",
      "997                      [0.0064942706]\n",
      "998                       [0.013367745]\n",
      "999    [0.435996, 24.887074, 10.589654]\n",
      "Name: mm_kin_vtx_chi2dof, Length: 1000, dtype: object\n"
     ]
    }
   ],
   "source": [
    "df = old_events.pandas.df(entries, flatten=False)"
   ]
  },
  {
   "cell_type": "code",
   "execution_count": 33,
   "metadata": {},
   "outputs": [],
   "source": [
    "mm_mass = old_events.array('mm_mass')\n",
    "mm_mass_new = new_events.array('mm_mass')"
   ]
  },
  {
   "cell_type": "code",
   "execution_count": 46,
   "metadata": {},
   "outputs": [
    {
     "data": {
      "text/plain": [
       "Text(0.5, 0, '')"
      ]
     },
     "execution_count": 46,
     "metadata": {},
     "output_type": "execute_result"
    },
    {
     "data": {
      "image/png": "[encoded data removed]",
      "text/plain": [
       "<Figure size 432x288 with 1 Axes>"
      ]
     },
     "metadata": {
      "needs_background": "light"
     },
     "output_type": "display_data"
    }
   ],
   "source": [
    "nbins = 100\n",
    "mass = mm_mass\n",
    "\n",
    "plt.hist(mass.flatten(),\n",
    "         bins=nbins, \n",
    "         log=True,\n",
    "         range=(2,7),\n",
    "         edgecolor='b', \n",
    "         color='w')\n",
    "\n",
    "plt.xlabel('')"
   ]
  },
  {
   "cell_type": "code",
   "execution_count": 47,
   "metadata": {},
   "outputs": [
    {
     "data": {
      "text/plain": [
       "Text(0.5, 0, '')"
      ]
     },
     "execution_count": 47,
     "metadata": {},
     "output_type": "execute_result"
    },
    {
     "data": {
      "image/png": "[encoded data removed]",
      "text/plain": [
       "<Figure size 432x288 with 1 Axes>"
      ]
     },
     "metadata": {
      "needs_background": "light"
     },
     "output_type": "display_data"
    }
   ],
   "source": [
    "mass = mm_mass_new\n",
    "\n",
    "plt.hist(mass.flatten(),\n",
    "         bins=nbins, \n",
    "         log=True,\n",
    "         range=(2,7),\n",
    "         edgecolor='b', \n",
    "         color='w')\n",
    "\n",
    "plt.xlabel('')"
   ]
  },
  {
   "cell_type": "code",
   "execution_count": null,
   "metadata": {},
   "outputs": [],
   "source": [
    "df = "
   ]
  }
 ],
 "metadata": {
  "kernelspec": {
   "display_name": "Python 3",
   "language": "python",
   "name": "python3"
  },
  "language_info": {
   "codemirror_mode": {
    "name": "ipython",
    "version": 3
   },
   "file_extension": ".py",
   "mimetype": "text/x-python",
   "name": "python",
   "nbconvert_exporter": "python",
   "pygments_lexer": "ipython3",
   "version": "3.7.5"
  }
 },
 "nbformat": 4,
 "nbformat_minor": 2
}
